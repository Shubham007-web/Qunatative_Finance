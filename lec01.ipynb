{
 "cells": [
  {
   "cell_type": "markdown",
   "id": "f2ae64dd-b29b-4a78-991f-0716467bcfba",
   "metadata": {},
   "source": [
    "# Time Value of Money\n",
    "\n",
    "- Money today worth more than the same amount of money in the future\n",
    "- Beacuse we may invest that money into goverment bonds or stocks\n",
    "- Futuere money **worth less because of inflation**.\n",
    "\n",
    "Let's take an exmaple and you are lending money from the bank/ government(treasury bills)  \n",
    "\n",
    "### How much money you can make by lending your money?\n",
    "\n",
    "Its depends on the following:\n",
    "- r : interest rate\n",
    "- n: amount of the time that will pass (duration in years)"
   ]
  },
  {
   "cell_type": "markdown",
   "id": "5adc858f-e67b-403d-90c9-fdd40ac96a03",
   "metadata": {},
   "source": [
    "### Future Value\n",
    "\n",
    "`FV =  PV(1 + r)^n`\n",
    "\n",
    "- FV: Future Value\n",
    "- PV: Present Value"
   ]
  },
  {
   "cell_type": "markdown",
   "id": "ba4ee41c-07ba-4eac-9bfa-5fcddb718d35",
   "metadata": {},
   "source": [
    "### Present Value\n",
    "PV defines how much a future sum of money is worth today given a specified rate of interest.\n",
    "\n",
    "`PV = FV/(1+r)^n`"
   ]
  },
  {
   "cell_type": "code",
   "execution_count": 14,
   "id": "1a302706-e5b2-4d9f-ae4f-10c1c32d05c5",
   "metadata": {},
   "outputs": [],
   "source": [
    "# future descite value\n",
    "\n",
    "def future_value(PV, r,n):\n",
    "    return PV * (1+r) **n"
   ]
  },
  {
   "cell_type": "code",
   "execution_count": 20,
   "id": "0b122f47-d302-4365-9564-bace9cc1f61c",
   "metadata": {},
   "outputs": [
    {
     "data": {
      "text/plain": [
       "1296000"
      ]
     },
     "execution_count": 20,
     "metadata": {},
     "output_type": "execute_result"
    }
   ],
   "source": [
    "future_value(1000,5,4)"
   ]
  },
  {
   "cell_type": "code",
   "execution_count": 22,
   "id": "72185117-5d19-4a02-8238-ebb39e12f859",
   "metadata": {},
   "outputs": [],
   "source": [
    "# descrete pv value\n",
    "\n",
    "def present_value(FV,r,n):\n",
    "    return FV *((1 + r)**(-n))"
   ]
  },
  {
   "cell_type": "code",
   "execution_count": null,
   "id": "67009270-94f5-4923-b20f-793297afa3cc",
   "metadata": {},
   "outputs": [],
   "source": []
  },
  {
   "cell_type": "markdown",
   "id": "b43b651e-8ee3-4a1d-82dc-0756af2b00a8",
   "metadata": {},
   "source": [
    "There are two type models for FV and PV values.\n",
    "- Discrete model (discussed above)\n",
    "- Continuous model\n",
    "\n",
    "- `dx(t)/dt = r x(t)`\n",
    "- `x(t) = x(0) exp(r*t)`\n",
    "\n",
    "Here\n",
    "- x(t): Future Value\n",
    "- x(0): Present Value\n",
    "\n",
    "Thus\n",
    "- `FV = PV exp(r*t)`\n",
    "- `PV = FV exp(-r*t)`\n",
    "\n",
    "**Note: The most important concept in finance is that of the time value of money x today is worth more than x in year's time**"
   ]
  },
  {
   "cell_type": "code",
   "execution_count": 26,
   "id": "e05a9382-c5e7-4b32-bfa4-470c4e13b744",
   "metadata": {},
   "outputs": [],
   "source": [
    "from math import exp"
   ]
  },
  {
   "cell_type": "code",
   "execution_count": 28,
   "id": "8a517798-2911-424c-9593-133dbc7a49e3",
   "metadata": {},
   "outputs": [],
   "source": [
    "def FV_continious(PV, r, t):\n",
    "    return PV * exp(r*t)"
   ]
  },
  {
   "cell_type": "code",
   "execution_count": 30,
   "id": "a9791461-2d62-463a-90d0-5443a591371f",
   "metadata": {},
   "outputs": [],
   "source": [
    "def PV_continious(FV, r, t):\n",
    "    return FV * exp(r*t)"
   ]
  },
  {
   "cell_type": "code",
   "execution_count": 32,
   "id": "11e2eb9f-959f-4c59-94ee-b97c8e65a07a",
   "metadata": {},
   "outputs": [
    {
     "data": {
      "text/plain": [
       "72004899337385.88"
      ]
     },
     "execution_count": 32,
     "metadata": {},
     "output_type": "execute_result"
    }
   ],
   "source": [
    "FV_continious(1000,5,5)"
   ]
  },
  {
   "cell_type": "code",
   "execution_count": null,
   "id": "c815d20e-8ae5-422a-8af6-b6238a8718d1",
   "metadata": {},
   "outputs": [],
   "source": []
  }
 ],
 "metadata": {
  "kernelspec": {
   "display_name": "Python 3 (ipykernel)",
   "language": "python",
   "name": "python3"
  },
  "language_info": {
   "codemirror_mode": {
    "name": "ipython",
    "version": 3
   },
   "file_extension": ".py",
   "mimetype": "text/x-python",
   "name": "python",
   "nbconvert_exporter": "python",
   "pygments_lexer": "ipython3",
   "version": "3.12.4"
  }
 },
 "nbformat": 4,
 "nbformat_minor": 5
}
