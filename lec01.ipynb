{
 "cells": [
  {
   "cell_type": "markdown",
   "id": "f2ae64dd-b29b-4a78-991f-0716467bcfba",
   "metadata": {},
   "source": [
    "# Time Value of Money\n",
    "\n",
    "- Money today worth more than the same amount of money in the future\n",
    "- Beacuse we may invest that money into goverment bonds or stocks\n",
    "- Fute money **worth less because of inflation**.\n",
    "\n",
    "Let's take an exmaple and you are lending money from the bank/ government(treasury bills)  \n",
    "\n",
    "### How much money you can make by lending your money?\n",
    "\n",
    "Its depends on the following:\n",
    "- r : interest rate\n",
    "- n: amount of the time that will pass (duration in years)"
   ]
  },
  {
   "cell_type": "markdown",
   "id": "5adc858f-e67b-403d-90c9-fdd40ac96a03",
   "metadata": {},
   "source": [
    "### Future Value\n",
    "\n",
    "`FV =  PV(1 + r)^n`\n",
    "\n",
    "- FV: Future Value\n",
    "- PV: Present Value"
   ]
  },
  {
   "cell_type": "markdown",
   "id": "ba4ee41c-07ba-4eac-9bfa-5fcddb718d35",
   "metadata": {},
   "source": [
    "### Present Value\n",
    "PV defines how much a future sum of money is worth today given a specif"
   ]
  }
 ],
 "metadata": {
  "kernelspec": {
   "display_name": "Python 3 (ipykernel)",
   "language": "python",
   "name": "python3"
  },
  "language_info": {
   "codemirror_mode": {
    "name": "ipython",
    "version": 3
   },
   "file_extension": ".py",
   "mimetype": "text/x-python",
   "name": "python",
   "nbconvert_exporter": "python",
   "pygments_lexer": "ipython3",
   "version": "3.12.4"
  }
 },
 "nbformat": 4,
 "nbformat_minor": 5
}
