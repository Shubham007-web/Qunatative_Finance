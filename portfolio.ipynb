{
 "cells": [
  {
   "cell_type": "markdown",
   "metadata": {},
   "source": [
    "---\n",
    "# Portfolio Optimization\n",
    "--- \n",
    "Portfolio optimization is a mathematical process that helps us determine the best way to allocate money across different stocks. The objective is to maximize returns while minimizing risk.\n",
    "\n",
    "### Key Factors Considered in Optimization:\n",
    "- **Expected Returns:** The average returns of each stock.\n",
    "- **Risk (Volatility):** How much the returns of each stock fluctuate.\n",
    "- **Correlations:** How the stocks move together (whether they go up and down together or in opposite directions)."
   ]
  },
  {
   "cell_type": "code",
   "execution_count": null,
   "metadata": {},
   "outputs": [],
   "source": []
  }
 ],
 "metadata": {
  "kernelspec": {
   "display_name": "base",
   "language": "python",
   "name": "python3"
  },
  "language_info": {
   "codemirror_mode": {
    "name": "ipython",
    "version": 3
   },
   "file_extension": ".py",
   "mimetype": "text/x-python",
   "name": "python",
   "nbconvert_exporter": "python",
   "pygments_lexer": "ipython3",
   "version": "3.12.4"
  }
 },
 "nbformat": 4,
 "nbformat_minor": 2
}
